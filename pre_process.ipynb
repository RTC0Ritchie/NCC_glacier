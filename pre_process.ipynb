{
 "cells": [
  {
   "cell_type": "code",
   "execution_count": null,
   "metadata": {
    "collapsed": true
   },
   "outputs": [],
   "source": [
    "import cv2\n",
    "import os\n",
    "import shutil"
   ]
  },
  {
   "cell_type": "code",
   "execution_count": null,
   "outputs": [],
   "source": [
    "# Get Band4 data (.jp2) from the raw RS data (.zip)\n",
    "def zip2jp2(foldurfzip,foldurfjp2,zipname):\n",
    "    fileurf1 = foldurfzip+zipname+'/GRANULE/'\n",
    "    fileurfpile1 = os.listdir(fileurf1)\n",
    "    fileurf2 = fileurf1+fileurfpile1[0]+'/IMG_DATA/'\n",
    "    fileurfpile2 = os.listdir(fileurf2)\n",
    "    filetarget = fileurf2+fileurfpile2[3]\n",
    "    if filetarget[-7:-4]=='B04':\n",
    "        shutil.move(filetarget, foldurfjp2)\n",
    "        print(filetarget[-23:-15]+' has successfully been moved!')\n",
    "    else:\n",
    "        print(foldurfzip[11:19]+' is not moved.')\n",
    "\n",
    "# From jp2 to jpg\n",
    "def jp2tojpg(foldurfjp2,foldurfjpg,jp2name):\n",
    "    image = cv2.imread(foldurfjp2+jp2name, cv2.IMREAD_GRAYSCALE)\n",
    "    cv2.imwrite(foldurfjpg+jp2name[7:7+8]+'.jpg', image)\n",
    "\n",
    "#----------------------\n",
    "def get_all_files(folder_path):\n",
    "    file_list = []\n",
    "    for filename in os.listdir(folder_path):\n",
    "        file_path = os.path.join(folder_path, filename)\n",
    "        if os.path.isfile(file_path):\n",
    "            file_list.append(filename)\n",
    "    return file_list\n",
    "\n",
    "def get_directories(path):\n",
    "    return [d for d in os.listdir(path) if os.path.isdir(os.path.join(path, d))]\n",
    "#----------------------"
   ],
   "metadata": {
    "collapsed": false,
    "pycharm": {
     "name": "#%%\n"
    }
   }
  },
  {
   "cell_type": "code",
   "execution_count": null,
   "outputs": [],
   "source": [
    "# Get Band4 data (.jp2) from the raw RS data (.zip)\n",
    "foldurf = 'Pictures/'\n",
    "namearrzip = get_directories(foldurf+'raw/')\n",
    "for name in namearrzip:\n",
    "    zip2jp2(foldurf+'raw/',foldurf+'jp2/',name)"
   ],
   "metadata": {
    "collapsed": false,
    "pycharm": {
     "name": "#%%\n"
    }
   }
  },
  {
   "cell_type": "code",
   "execution_count": null,
   "outputs": [],
   "source": [
    "# Format transformation\n",
    "foldurf = 'Pictures/'\n",
    "namearr = get_all_files(foldurf+'jp2/')\n",
    "for name in namearr:\n",
    "    print(name)\n",
    "    jp2tojpg(foldurf+'jp2/',foldurf+'jpg/',name)"
   ],
   "metadata": {
    "collapsed": false,
    "pycharm": {
     "name": "#%%\n"
    }
   }
  }
 ],
 "metadata": {
  "kernelspec": {
   "display_name": "Python 3",
   "language": "python",
   "name": "python3"
  },
  "language_info": {
   "codemirror_mode": {
    "name": "ipython",
    "version": 2
   },
   "file_extension": ".py",
   "mimetype": "text/x-python",
   "name": "python",
   "nbconvert_exporter": "python",
   "pygments_lexer": "ipython2",
   "version": "2.7.6"
  }
 },
 "nbformat": 4,
 "nbformat_minor": 0
}